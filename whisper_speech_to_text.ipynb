{
  "nbformat": 4,
  "nbformat_minor": 0,
  "metadata": {
    "colab": {
      "private_outputs": true,
      "provenance": [],
      "authorship_tag": "ABX9TyO/LtAoLehS/x1wlOBkUeRF",
      "include_colab_link": true
    },
    "kernelspec": {
      "name": "python3",
      "display_name": "Python 3"
    },
    "language_info": {
      "name": "python"
    },
    "accelerator": "GPU",
    "gpuClass": "standard"
  },
  "cells": [
    {
      "cell_type": "markdown",
      "metadata": {
        "id": "view-in-github",
        "colab_type": "text"
      },
      "source": [
        "<a href=\"https://colab.research.google.com/github/saurabh2086/whisper_use_case/blob/dev/whisper_speech_to_text.ipynb\" target=\"_parent\"><img src=\"https://colab.research.google.com/assets/colab-badge.svg\" alt=\"Open In Colab\"/></a>"
      ]
    },
    {
      "cell_type": "code",
      "execution_count": null,
      "metadata": {
        "id": "Se4IYKPdmNv8"
      },
      "outputs": [],
      "source": [
        "!pip install git+https://github.com/openai/whisper.git"
      ]
    },
    {
      "cell_type": "code",
      "source": [
        "# on Ubuntu or Debian\n",
        "!sudo apt update && sudo apt install ffmpeg"
      ],
      "metadata": {
        "id": "QM7M8UFQmbxD"
      },
      "execution_count": null,
      "outputs": []
    },
    {
      "cell_type": "code",
      "source": [
        "import locale\n",
        "locale.getpreferredencoding = lambda: \"UTF-8\"\n",
        "!python -m spacy download en_core_web_md"
      ],
      "metadata": {
        "id": "bhsoziQImZZN"
      },
      "execution_count": null,
      "outputs": []
    },
    {
      "cell_type": "code",
      "source": [
        "! pip install gradio -q"
      ],
      "metadata": {
        "id": "m5sFXkISmif8"
      },
      "execution_count": null,
      "outputs": []
    },
    {
      "cell_type": "code",
      "source": [
        "import whisper\n",
        "import pandas as pd\n",
        "import matplotlib.pyplot as plt\n",
        "import numpy as np\n",
        "import spacy\n",
        "import gradio as gr\n",
        "import pandas as pd\n",
        "import datetime\n",
        "import spacy\n",
        "from spacy.matcher import Matcher, PhraseMatcher\n",
        "import time"
      ],
      "metadata": {
        "id": "N_hnnLegmmnK"
      },
      "execution_count": null,
      "outputs": []
    },
    {
      "cell_type": "markdown",
      "source": [
        "List the available models"
      ],
      "metadata": {
        "id": "FpsAyDuwnAcB"
      }
    },
    {
      "cell_type": "code",
      "source": [
        "pd.DataFrame(dict(Models = whisper.available_models()))"
      ],
      "metadata": {
        "id": "4fOyQxA8m7Uy"
      },
      "execution_count": null,
      "outputs": []
    },
    {
      "cell_type": "markdown",
      "source": [
        "let's load the base model"
      ],
      "metadata": {
        "id": "QqPpzmCinxl6"
      }
    },
    {
      "cell_type": "markdown",
      "source": [
        "# Recording live audio"
      ],
      "metadata": {
        "id": "wHdS8CQX4ZmS"
      }
    },
    {
      "cell_type": "code",
      "source": [
        "# product catelogue\n",
        "product_name = [\"Stocks and Securities Trading\",\n",
        "                \"Unit trust investment\",\n",
        "                \"Bonds\",\n",
        "                \"Structured Product\",\n",
        "                \"Dual Currency Plus\",\n",
        "                \"Sustainable Investing\",\n",
        "                \"FX Services\",\n",
        "                \"Everyday Global Account\",\n",
        "                \"Wealth Portfolio Lending\",\n",
        "                \"Sapphire Prestige Income II\",\n",
        "                \"Variable Annuity\",\n",
        "                \"Jade Legacy Universal Life\",\n",
        "                \"Emerald Legacy Life III\",\n",
        "                \"ValueLife Insurance\",\n",
        "                \"Term Protect Advantage\",\n",
        "                \"Wealth Builder\",\n",
        "                \"Retirement Income II\",\n",
        "                \"Savings Protector II\",\n",
        "                \"Goal Builder\",\n",
        "                \"International Health Insurance\",\n",
        "                \"Health Insurance - SmartCare Optimum Enhanced\"\n",
        "                ]\n",
        "product_description = [\"\"\"Start trading stocks and shares with our Stock Trading platform. \\\n",
        "If you are an experienced investor, you'll want to be able to trade stocks and securities freely. \n",
        "With our online stock trading platform you can trade stocks or other securities types. \n",
        "Take advantage of trading opportunities in the US, Singapore and Hong Kong markets.\n",
        "Trade instantly via HSBC Singapore app or online banking.\n",
        "You will have access to Stocks, Exchange Traded Funds (ETF's), Real Estate Investment Trusts (REITs), \n",
        "Global Depository Receipts (GDRs) and American Depository Receipts (ADRs)\n",
        "\"\"\",\n",
        "\"\"\"Grow your wealth through investments with our range of professionally managed unit trusts (or funds).\n",
        "A unit trust fund invests in a diverse portfolio of investments. This helps to diversify your risk better than investing in a single security.\n",
        "You can buy and sell unit trusts on any dealing day with ease - online or through your Relationship Manager.\n",
        "Unit trusts let you access a portfolio of investments from as low as SGD1,000 - a more cost efficient option than building the portfolio yourself.\n",
        "Gain exposure to countries/regions, sectors and investments that are not easily accessible as an individual.\n",
        "Let the experts work for you - your investments are managed by investment professionals who spend their careers researching and managing investments.\n",
        "\"\"\",\n",
        "\"\"\"By investing in bonds, you may receive steady interest income with a potentially higher yield and return compared to the interest you'd earn on cash savings rate over the same amount of time.\n",
        "Higher interest potential than cash savings accounts.\n",
        "Diversify your investment risk.\n",
        "Potential long-term capital gain.\n",
        "Earn a regular stream of interest income.\n",
        "Corporate bonds, supranational bonds, government/quasi-government bonds.\n",
        "Fixed-rate bonds, floating rate coupon bonds.\n",
        "Available in multiple currencies: USD, AUD, CAD, CNH, EUR, GBP, NZD, SGD.\n",
        "\"\"\",\n",
        "\"\"\"If you're looking to spread the risk in your investment portfolio, Structured Products could help you do just that.\n",
        "Customisable according to the investor's market view.\n",
        "Access underlying asset which may otherwise not be readily accessible.\n",
        "Potential yield enhancements.\n",
        "The return on a Structured Product is variable and depend on the performance of the underlying asset\n",
        "Structured Products are investment products where the return is linked to an underlying asset with pre-defined features (tenor, currency, payout calculation etc. )\n",
        "Underlying asset can be equities, interest rates,  commodities, mutual funds & foreign currencies among others.\n",
        "\"\"\",\n",
        "\"\"\"Invest in currency pairs as underlying assets\n",
        "Dual Currency Plus helps you make the most of your foreign currency needs by allowing you to pair two currencies of your choice and making use of foreign exchange fluctuation to enhance your returns.\n",
        "\"\"\",\n",
        "\"\"\"Environmental, Social and Governance (ESG) is a set of criteria that can be applied to how a company operates. \n",
        "When we talk about ESG investing, we're referring to the use of these criteria as factors in our investment decisions and in evaluating potential companies to add to your financial portfolio.\n",
        "\"\"\",\n",
        "\"\"\"\n",
        "Get access to easy FX solutions. Check the latest foreign currency exchange rates in real-time online.\n",
        "Looking to capitalise on foreign exchange rate fluctuations online\n",
        "Our foreign exchange (or commonly known as forex) solutions are designed to help no matter if you're interested in investing in foreign currencies, or need to send money abroad.\n",
        "If you're looking to invest, you should know that forex is the world's most traded investment market.\n",
        "Whether you're an expert or novice investor, our foreign exchange services can help you make the most out of your money.\n",
        "\"\"\",\n",
        "\"\"\"Unlock rewards easily with 1% cashback and enjoy up to SGD300 bonus cash reward.\n",
        "Introducing a multi-currency account that meets your transactional needs in up to 11 different currencies.\n",
        "Send money internationally with the HSBC Global Money Transfers\n",
        "Unlock more benefits with HSBC Everyday+ Rewards Programme\n",
        "\"\"\",\n",
        "\"\"\"Access extra funds for the short term, without cashing out on your existing investments.\n",
        "Invest in your future with a loan backed by your assets.\n",
        "Our Wealth Portfolio Lending loan gives you access to extra funds, and this is secured by your existing eligible HSBC assets acceptable to the bank. \n",
        "The Effective Credit Limit granted is dependent on the type of assets pledged and will be subject to the Bank's approval.\n",
        "A loan can help you easily reach your goals, without having to worry about your cashflow.\n",
        "Plus, you can use your assets flexibly to increase your liquidity, helping to protect your existing wealth and open up new opportunities.\n",
        "Whether you're looking to venture into new investments, treat yourself or settle any unexpected expenses, \n",
        "you can access extra funds without liquidating your existing investments.\n",
        "\"\"\",\n",
        "\"\"\"Secure your legacy with sustainable wealth\n",
        "Building a lasting financial legacy for your family goes beyond accumulating wealth. It's about empowering future generations with financial stability at every life stage.\n",
        "HSBC Life Sapphire Income II is a whole life plan that provides you with regular income to complement your savings so you can enjoy your retirement with peace of mind. \n",
        "It gives you and your loved ones the financial edge to sustain your wealth and build a legacy that lasts for generations.\n",
        "\"\"\",\n",
        "\"\"\"HSBC Life Variable Annuity is a capital guaranteed1 retirement solution that is designed to provide you with a stream of guaranteed monthly retirement income.\n",
        "A one-time investment in US dollars, this plan helps to boost your retirement income by giving you the chance to benefit from market upside performance and protect against downside risk.\n",
        "Capital guaranteed - HSBC Life Variable Annuity retirement solution keeps your capital safe while you stay invested.\n",
        "Benefit from market upsides / Protection when market falls - Your Guaranteed Payout Base (GPB) is locked-in based on the higher account value, whenever it increases on every monthiversaryof your policy. It will never decrease once it is locked-in33 view footnote 3.\n",
        "Receive a stream of guaranteed monthly payouts and potential lump sum at the end of the policy term to fund your retirement.\n",
        "High liquidity - access your account value any time without charge!\n",
        "\"\"\",\n",
        "\"\"\"Jade Legacy Universal Life Plan and Jade Ultra Legacy Universal Life Plan are designed for individuals or business owners who are seeking life insurance protection and potential wealth accumulation.\n",
        "Your financial circumstances and goals for the future are unique to you. Customise the solution to meet a wide range of estate-planning needs, thus securing your legacy through the generations and the financial future of your loved ones.\n",
        "Provide more for your legacy without compromising your retirement lifestyle\n",
        "Grow your cash value with guaranteed interest rate lock option and exclusive loyalty bonus\n",
        "Build a stronger foundation for your future generations with multi-generational planning\n",
        "Preserving the value of the assets you acquired for your loved ones\n",
        "\"\"\",\n",
        "\"\"\"Your legacy is much more than the wealth you leave behind for your family. We are here to help you grow your legacy and ensure your plans for your loved ones are taken care of, and lead them to greater success with financial assurance and support.\n",
        "Grow your legacy with HSBC Life Emerald Legacy Life III - a single premium whole life plan. So you can rest assured that your wealth is preserved for your family or passed on for many more generations to come.\n",
        "Coverage for death and terminal illness, up to age 99.\n",
        "Option to replace the life insured when the need arises, for both corporate and individual policies11 view footnote 1.\n",
        "5% of the single premium paid will be refunded to you when the life insured quits smoking anytime22 view footnote 2 within the first 4 policy years.\n",
        "Available in both SGD and USD.\n",
        "\"\"\",\n",
        "\"\"\"At HSBC, we understand you want the assurance of lifetime protection, without the burden of paying premiums in your golden years. Which is why we have designed ValueLife to offer you the freedom to live life to the fullest. \n",
        "It's a smarter way to invest in what matters most - your future.\n",
        "ValueLife is a non-participating whole life insurance plan that lets you reduce your coverage, at either ANB 65 or 80.\n",
        "When it comes to your later stages in life, most of your life and financial goals would have been achieved. Unlike typical whole-of-life plans, you can reduce your coverage, creating an opportunity for cost savings.\n",
        "Guaranteed lifetime protection with a limited premium paying term\n",
        "ValueLife is designed with your future in mind. Pay regular premiums for only the first 15 years and be insured against Death and Terminal Illness up to ANB 99, and Total and Permanent Disability before ANB 65.\n",
        "Guaranteed refund of premiums\n",
        "With ValueLife, you’ll receive 100% of the total premiums paid at the end of year 15, if you decide to surrender your policy and if there is no premium loading.\n",
        "Guaranteed maturity benefit\n",
        "If no claims have been made up to ANB 99, the reduced Sum Insured, i.e. 70% of the basic Sum Insured, will be paid out in one lump sum as the maturity benefit.\n",
        "\"\"\",\n",
        "\"\"\"With Term Protect Advantage, you have the flexibility to choose your preferred premium and policy term, and receive the surrender value11 view footnote 1, when the coverage is no longer needed.\n",
        "Affordable protection coverage.Challenging times call for an affordable policy, which protects you against death terminal illness, so you can allocate your money to where you need it most.\n",
        "Flexible premium and policy term.Take control of your financial future by choosing the term of your coverage and how long you wish to pay for it.\n",
        "Boost your coverage with Guaranteed Insurability Option.Our financial needs often change with our life stages. With Term Protect Advantage, you can increase your coverage at life key milestones without medical underwriting.\n",
        "Convertibility benefit.Later in life, you may change to any whole life or endowment plan (that is available to you at that point in time) without medical underwriting.\n",
        "Unemployment support benefit.You may pay your premium at a later date (up to 365 days) if you become unemployed.\n",
        "Guaranteed surrender value.When you no longer need the coverage, you can surrender your policy and receive the guaranteed surrender value of your policy (available for only limited pay option).\n",
        "\"\"\",\n",
        "\"\"\"HSBC Life Wealth Builder is a flexible, savings plan that allows you to potentially grow your wealth through long-term accumulation (up to age 12011 view footnote 1), giving the financial assurance you need for you, your child, possibly even your grandchildren.\n",
        "Flexibility to build a plan to your preference.Choose premium term of Single Premium, 5, 10, or 15 years.\n",
        "Option to pause your premiums payment without policy lapsing.\n",
        "Option to jointly buy the policy with your spouse.\n",
        "Receive both guaranteed and non-guaranteed bonuses.\n",
        "Access to the cash value of the policy.While the plan builds its cash value, you can still access to your savings whenever you need to fund key milestones.\n",
        "Policy continuity to ensure the cash value keep growing.Option to appoint your spouse or child as the Secondary Life Insured.\n",
        "Remaining premiums are waived if you suffer from Total and Permanent Disability (TPD).\n",
        "\"\"\",\n",
        "\"\"\"\n",
        "HSBC Life Retirement Income II gives you monthly financial support so you can keep the promises you’re most looking forward to\n",
        "Retire on your own terms. Tailor your policy so you can get closer to fulfilling your retirement aspirations.  Customise your plan with the following options:\n",
        "Retirement Age at 55, 60, 65, 70. Desired Guaranteed Monthly Payout from S$300.\n",
        "Flexible premium term options - Single Premium, 5 or 10 years.\n",
        "Income Payout Period with 10, 15, 20 years or to age 99.\n",
        "Fund your policy with cash or monies from Supplementary Retirement Scheme account.\n",
        "Unemployment Support Benefit.n case of Unemployment you have the option to defer premium payments for up to 365 days.\n",
        "All future premiums will be waived if you or your spouse is diagnosed with Total and Permanent Disability, or in the event of your spouse’s death.\n",
        "Chronic Illness Care Benefit.Receive additional 100% of the Guaranteed Monthly Payout if diagnosed with Loss of Independence, Idiopathic Parkinson's Disease, Alzheimer's Disease/ Severe Dementia or Major Head Trauma.\n",
        "Mobility Care Benefit.Receive a single lump sum payout worth 20 times Guaranteed Monthly Payout (up to S$25,000) if diagnosed with Osteoporosis with Fractures or Severe Rheumatoid Arthritis.\n",
        "\"\"\",\n",
        "\"\"\"HSBC Life Savings Protector II provides assurance to your loved ones that they can count on the commitment you make. Seal your commitments with HSBC Life Savings Protector II which will not only protect your savings but provides flexibility to potentially earn higher returns.\n",
        "Whether it is planning for a comfortable retirement or providing for your children's education, HSBC Life Savings Protector II can help you to seal your goals. This plan is suitable if you wish to have a higher protection coverage to protect your financial goals.\n",
        "HSBC Life Savings Protector II guarantees your capital11 view footnote 1 at the end of the policy term even during a market downturn. You can also potentially enjoy higher payouts through non-guaranteed reversionary22 view footnote 2 and terminal33 view footnote 3 bonuses on maturity.\n",
        "HSBC Life Savings Protector II can be tailored to best fit your needs. You can choose premium payment terms of 3 or 5 years to suit your financial situation.\n",
        "\"\"\",\n",
        "\"\"\"Our Goal Builder is a limited premium investment-linked plan that can give you lifelong protection. With over 70 world-class funds to choose from, it also provides high flexibility to grow your wealth.\n",
        "If you want to grow your wealth and protect yourself and your family at the same time, the HSBC Life Goal Builder could be the right option for you.\n",
        "Access to over 70 world-class funds\n",
        "No premium charges, and all basic premiums go towards investing into funds of your choice\n",
        "Option to re-balance your fund holdings automatically\n",
        "No product administrative fees44 view footnote 4 from policy year 25 onwards\n",
        "Top up premiums allowed at any time through both ad-hoc or regular top up arrangement.\n",
        "Unlimited ad hoc or pre-planned regular withdrawal.Potentially create an income stream by investing in dividend-paying funds.\n",
        "Lifelong protection for death or terminal illness.Complimentary accidental death coverage up to age 75.\n",
        "Option to enhance the death benefits up to 10 times of annual premium.No medical examinations required.Available in both SGD and USD.\n",
        "\"\"\",\n",
        "\"\"\"Hospital charges incurred during an in-patient hospital stay are covered, giving you peace of mind throughout your hospital treatment.\n",
        "Out-patient benefits including cover for general practitioner and specialist consultations, prescribed drugs and dressings and necessary diagnostic tests, and vaccinations up to the limits shown.\n",
        "Depending on where in the world you reside, travel to or wish to receive treatment, there are 3 geographical areas of cover designed to suit your needs: Asia, Worldwide excluding USA, and Worldwide\n",
        "\"\"\",\n",
        "\"\"\"No limit to number of days of hospital stay.Dread disease recuperation.Cash allowance while hospitalised.Inpatient psychiatric treatment.\n",
        "Greater coverage, Cashless outpatient visits to our panel general practitioners.\n",
        "Alternative treatment under Platinum and Gold Plan i.e. consultation and treatment provided by registered chiropractor, podiatrist, dietitian, nutritionist, naturopath, acupuncturist, homeopath, osteopath, TCM and physiotherapist.\n",
        "Pediatrician consultation benefit (waiver of general practitioner referral letter for insured child below 36 months).\n",
        "As charged benefits.No co-payment & deductible.Cover up to age 80.Stable portfolio pricing i.e. HSBC Life (Singapore) Pte. Ltd. will not impose capping on your medical conditions or additional loadings on your premium upon renewal as a result of your personal claims experience.\n",
        "While most health insurance plans cover you for hospitalisation only, SmartCare Optimum Enhanced now offers you optional riders to complement your core plan.\n",
        "Dental rider – provides coverage for outpatient visit to dentist (20% co-payment applies).\n",
        "Travel inconvenience rider – enhance your travel benefits for your next vacation or business trips.\n",
        "With just a call from anywhere in the world, you can stay connected to our 24-hour customer service assistance hotline and get access to assistance for emergency medical evacuation and repatriation services.\n",
        "With a choie of three comprehensive plans, you have the flexibility of selecting the plan that best suits your needs and budget.\n",
        "With SmartCare Optimum Enhanced there is no restriction on your choice of hospital. This means that you can choose to receive treatment in a public or a private hospital.\n",
        "\"\"\"\n",
        "]"
      ],
      "metadata": {
        "id": "7zn3k9Oqe_CF"
      },
      "execution_count": null,
      "outputs": []
    },
    {
      "cell_type": "code",
      "source": [
        "product_df = pd.DataFrame(dict(products=product_name, description=product_description))"
      ],
      "metadata": {
        "id": "LccNQTNm16SL"
      },
      "execution_count": null,
      "outputs": []
    },
    {
      "cell_type": "code",
      "source": [
        "def transcribe(file_name):\n",
        "  if file_name:\n",
        "    model = whisper.load_model(name='base')\n",
        "    result = model.transcribe(file_name)\n",
        "    result = result[\"text\"]\n",
        "  else:\n",
        "    result = None \n",
        "  return result\n",
        "\n",
        "# def gather_information(df_base,customer_id,\n",
        "#                        meeting_date,\n",
        "#                        short_term_goals, \n",
        "#                        long_term_goals, \n",
        "#                        happy_about, \n",
        "#                        not_happy_about, \n",
        "#                        next_steps):\n",
        "#   df = pd.DataFrame({'customer_ids':[customer_id],\n",
        "#              'meeting_date':[meeting_date],\n",
        "#              'short_term_goals':[short_term_goals], \n",
        "#              'long_term_goals':[long_term_goals],\n",
        "#              'happy_about':[happy_about],\n",
        "#              'not_happy_about':[not_happy_about],\n",
        "#              'next_steps':[next_steps]\n",
        "#   })\n",
        "#   df = df_base.append(df,ignore_index=True)\n",
        "#   return {rm_df: df,\n",
        "#           df_out: df}\n",
        "\n",
        "# Load the spacy model\n",
        "nlp = spacy.load('en_core_web_md')\n",
        "def recommend_products(conversation, description):\n",
        "  \n",
        "  # Compute the cosine similarity between the document vectors\n",
        "  conversation_doc = nlp(conversation)\n",
        "  description_doc = nlp(description)\n",
        "  similarity = conversation_doc.similarity(description_doc)\n",
        "\n",
        "  return similarity\n",
        "\n",
        "\n",
        "def find_information(text_transcript):\n",
        "  short_term_pattern = [{\"LOWER\":\"short\"}, {\"LOWER\": \"term\"}, {\"LEMMA\": \"goal\"}]\n",
        "  long_term_pattern = [{\"LOWER\":\"long\"}, {\"LOWER\": \"term\"}, {\"LEMMA\": \"goal\"}]\n",
        "  happy_pattern = [{\"LEMMA\": \"be\"}, {\"LOWER\": \"happy\"}, {\"LOWER\": \"about\"}]\n",
        "  not_happy_pattern = [{\"LEMMA\": \"be\"}, {\"LOWER\": \"not\"}, {\"LOWER\": \"happy\"}, {\"LOWER\": \"about\"}]\n",
        "  next_steps_pattern = [{\"LOWER\": \"next\"}, {\"LEMMA\": \"step\"}]\n",
        "  whisper_pattern = [short_term_pattern,\n",
        "                   long_term_pattern,\n",
        "                   happy_pattern,\n",
        "                   not_happy_pattern,\n",
        "                   next_steps_pattern]\n",
        "\n",
        "  nlp=spacy.load(\"en_core_web_sm\")\n",
        "  doc = nlp(text_transcript)\n",
        "  matcher = Matcher(nlp.vocab)\n",
        "  matcher.add(\"WhisperPattern\", whisper_pattern)\n",
        "  matches = matcher(doc)\n",
        "  \n",
        "  initial_span = doc[0: matches[0][1]]\n",
        "  short_term_span = doc[matches[0][1]:matches[1][1]]\n",
        "  long_term_span = doc[matches[1][1]:matches[2][1]]\n",
        "  happy_span = doc[matches[2][1]:matches[3][1]]\n",
        "  not_happy_span = doc[matches[3][1]:matches[4][1]]\n",
        "  next_step_span = doc[matches[4][1]:]\n",
        "  product_df['similarity_score_sort'] = product_df['description'].apply(recommend_products, args=(short_term_span.text,))\n",
        "  product_df['similarity_score_long'] = product_df['description'].apply(recommend_products, args=(long_term_span.text,))\n",
        "\n",
        "  print(product_df.sort_values(\"similarity_score_sort\", ascending=False).head(3))\n",
        "  print(product_df.sort_values(\"similarity_score_long\", ascending=False).head(3))\n",
        "\n",
        "  short_top3 = product_df.sort_values(\"similarity_score_sort\", ascending=False).head(3)['products'].values\n",
        "  long_top3 = product_df.sort_values(\"similarity_score_long\", ascending=False).head(3)['products'].values\n",
        "\n",
        "  print(short_top3)\n",
        "  print(long_top3)\n",
        "\n",
        "  short_term_prod = f\"\"\"\n",
        "  ## Recommendation for short term goals\n",
        "  * {short_top3[0]}\n",
        "  * {short_top3[1]}\n",
        "  * {short_top3[2]}\n",
        "  \"\"\"\n",
        "\n",
        "  long_term_prod = f\"\"\"\n",
        "  ## Recommendation for short term goals\n",
        "  * {long_top3[0]}\n",
        "  * {long_top3[1]}\n",
        "  * {long_top3[2]}\n",
        "  \"\"\"\n",
        "\n",
        "\n",
        "  return {highlight_text:[(initial_span.text, None),\n",
        "          (short_term_span.text, \"ShortTermGoals\"),\n",
        "          (long_term_span.text, \"LongTermGoals\"),\n",
        "          (happy_span.text, \"HappyAbout\"),\n",
        "          (not_happy_span.text, \"NotHappyAbout\"),\n",
        "          (next_step_span.text,\"NextSteps\")\n",
        "          ],\n",
        "          short_mdown:short_term_prod,\n",
        "          long_mdown:long_term_prod\n",
        "          }\n",
        "\n",
        "def gather_information(df_base,customer_id,\n",
        "                       customer_name,\n",
        "                       meeting_date,\n",
        "                       meeting_time,\n",
        "                       transcription):\n",
        "  information = {k: v for (v,k) in find_information(transcription)}\n",
        "  \n",
        "  df = pd.DataFrame({'customer_ids':[customer_id],\n",
        "             'meeting_date':[meeting_date],\n",
        "             'meeting_time':[meeting_time],\n",
        "             'short_term_goals':[information[\"ShortTermGoals\"]], \n",
        "             'long_term_goals':[information[\"LongTermGoals\"]],\n",
        "             'happy_about':[information[\"HappyAbout\"]],\n",
        "             'not_happy_about':[information[\"NotHappyAbout\"]],\n",
        "             'next_steps':[information[\"NextSteps\"]],\n",
        "             'updated_on': [datetime.datetime.today()]\n",
        "  })\n",
        "  df = df_base.append(df,ignore_index=True)\n",
        "  return {rm_df: df,\n",
        "          df_out: df}"
      ],
      "metadata": {
        "id": "Mc6rVy6K6Aj7"
      },
      "execution_count": null,
      "outputs": []
    },
    {
      "cell_type": "code",
      "source": [
        "# find_information(text)"
      ],
      "metadata": {
        "id": "_f3D_8Qn4F3W"
      },
      "execution_count": null,
      "outputs": []
    },
    {
      "cell_type": "code",
      "source": [
        "with gr.Blocks(theme=gr.themes.Default()) as demo:\n",
        "  with gr.Tab(\"Rcord Meeting\"):  \n",
        "    gr.Markdown(\"## Emp Name: Miss Nobody\")\n",
        "    with gr.Row():\n",
        "      gr.Markdown(\"Emp ID: 324\")\n",
        "      gr.Markdown(\"Branch: Holland Village\")\n",
        "    gr.Markdown(\"---\")\n",
        "    with gr.Row():\n",
        "      with gr.Column():\n",
        "        customer_id = gr.Textbox(label=\"Customer ID\",type=\"text\", interactive=True)\n",
        "        customer_name = gr.Textbox(label=\"Customer Name\",type=\"text\", interactive=True)\n",
        "      with gr.Column():\n",
        "        meeting_date = gr.Textbox(placeholder=datetime.date.today(),label=\"Meeting time\", type=\"text\",interactive=True)\n",
        "        meeting_time = gr.Textbox(placeholder=datetime.datetime.now().strftime(\"%H:%M\"), label=\"Meeting time\", type=\"text\", interactive=True)\n",
        "    audio_record = gr.Audio(source=\"microphone\",label=\"Record the meeting\",type=\"filepath\")\n",
        "    transcription = gr.Textbox(label=\"Meeting notes\", type=\"text\", interactive=True, max_lines=5)\n",
        "    with gr.Row():\n",
        "      clear_button = gr.Button(\"Clear\")\n",
        "      parse_button = gr.Button(\"Parse Report\")\n",
        "\n",
        "    with gr.Accordion(\"See parsed report\"):\n",
        "      highlight_text = gr.HighlightedText()\n",
        "    \n",
        "    with gr.Row():\n",
        "      short_mdown = gr.Markdown(value=\"\"\"\n",
        "      ### Short term products Recommendation\n",
        "      \"\"\")\n",
        "      long_mdown = gr.Markdown(value=\"\"\"\n",
        "      ### Long term products Recommendation\n",
        "      \"\"\")\n",
        "    \n",
        "\n",
        "\n",
        "    submit_button = gr.Button(\"Submit Report\")\n",
        "\n",
        "\n",
        "    \n",
        "  with gr.Tab(\"Data\"):\n",
        "    rm_df = gr.State(pd.DataFrame())\n",
        "    df_out = gr.Dataframe()\n",
        "    \n",
        "  audio_record.change(transcribe,inputs=audio_record,outputs=transcription)\n",
        "  clear_button.click(lambda: (gr.update(value=None), \n",
        "                              gr.update(value=None), \n",
        "                              gr.update(value=None),\n",
        "                              gr.update(value=None)), \n",
        "                    None, \n",
        "                    [customer_id,\n",
        "                      customer_name, \n",
        "                      audio_record, \n",
        "                      transcription])\n",
        "  parse_button.click(find_information,inputs=transcription,outputs=[highlight_text,short_mdown,long_mdown])\n",
        "  submit_button.click(gather_information,inputs=[rm_df,customer_id, \n",
        "                                                 customer_name,\n",
        "                                                 meeting_date,\n",
        "                                                 meeting_time, \n",
        "                                                 transcription],outputs=[rm_df,df_out],show_progress=True)\n",
        "\n",
        "\n",
        "demo.launch(share=True,debug=True)"
      ],
      "metadata": {
        "id": "pjVTd4sGHBFN"
      },
      "execution_count": null,
      "outputs": []
    },
    {
      "cell_type": "code",
      "source": [
        "import spacy\n",
        "from spacy.matcher import Matcher, PhraseMatcher"
      ],
      "metadata": {
        "id": "OvX0H48_LrQh"
      },
      "execution_count": null,
      "outputs": []
    },
    {
      "cell_type": "code",
      "source": [
        "text = \"\"\"Hi, today I met a client at the Revo City branch and we had a discussion for about one hour. \n",
        "The name of the client was Mr. XYZ and we talked about various financial aspects of the client. \n",
        "Based on our discussion the short term goals of the client were borrow money to fund his housing purchase. He wants to use\n",
        "his existing funds to borrow loan which can act as a collateral.\n",
        "He also wants to diversify his current investment by investing in multiple products such as commodities currency and\n",
        "stocks.\n",
        "The long term goals of this client to the few \n",
        "long term plans like my sending his kids to college in the US and buying a few more investment properties as well as \n",
        "he wants to invest in bond. He is also concerned about insurance so currently he has medical insurance but he \n",
        "wants to take a life insurance as well that will cover him for life. He is looking for a term for maybe around \n",
        "99 years or something. The client is happy about  with HSBC that HSBC is in multiple countries so he wants to\n",
        "fund the EGA account using which he can have his money in various currencies. He also likes the network of HSBC and the \n",
        "services we provide. The thing he is not happy about the latency between fund transfers. Sometimes it takes one or \n",
        "two days for funds to reflect. He was asking if we have any plans to change that. On the next step I suggest \n",
        "that we should plan the insurance part of this client since the other plans are more merely short terms and \n",
        "for the long term plans we need to put the right insurance in place, and he requires more FX services in the future\"\"\""
      ],
      "metadata": {
        "id": "u1q7JcZwmbNL"
      },
      "execution_count": null,
      "outputs": []
    },
    {
      "cell_type": "code",
      "source": [
        "text = \"Today I met Bulvita Brahma on a very romantic date. We talked about many things including our life, career, finances and dreams. Then he went ahead and talked about our short term goals. Our short-term goals will be to buy a new car and our long term goals will be buy a new brand new villa. What she is happy about Singapore is convenient. If she wants to eat anything she can get it. What she is not happy about is the work culture of Singapore. Our next steps will be to look for a car loan and then look for a home loan.\""
      ],
      "metadata": {
        "id": "AAae6ucGkNEP"
      },
      "execution_count": null,
      "outputs": []
    },
    {
      "cell_type": "code",
      "source": [
        "nlp=spacy.load(\"en_core_web_sm\")"
      ],
      "metadata": {
        "id": "TRbke65V5r9z"
      },
      "execution_count": null,
      "outputs": []
    },
    {
      "cell_type": "code",
      "source": [
        "doc = nlp(text)"
      ],
      "metadata": {
        "id": "hGs74nKebgOn"
      },
      "execution_count": null,
      "outputs": []
    },
    {
      "cell_type": "code",
      "source": [
        "matcher = Matcher(nlp.vocab)"
      ],
      "metadata": {
        "id": "zEepGSlVLipY"
      },
      "execution_count": null,
      "outputs": []
    },
    {
      "cell_type": "code",
      "source": [
        "short_term_pattern = [{\"LOWER\":\"short\"}, {\"LOWER\": \"term\"}, {\"LEMMA\": \"goal\"}]\n",
        "long_term_pattern = [{\"LOWER\":\"long\"}, {\"LOWER\": \"term\"}, {\"LEMMA\": \"goal\"}]\n",
        "happy_pattern = [{\"LEMMA\": \"be\"}, {\"LOWER\": \"happy\"}, {\"LOWER\": \"about\"}]\n",
        "not_happy_pattern = [{\"LEMMA\": \"be\"}, {\"LOWER\": \"not\"}, {\"LOWER\": \"happy\"}, {\"LOWER\": \"about\"}]\n",
        "next_steps_pattern = [{\"LOWER\": \"next\"}, {\"LEMMA\": \"step\"}]"
      ],
      "metadata": {
        "id": "pPFOneLqLp6O"
      },
      "execution_count": null,
      "outputs": []
    },
    {
      "cell_type": "code",
      "source": [
        "whisper_pattern = [short_term_pattern,\n",
        "                   long_term_pattern,\n",
        "                   happy_pattern,\n",
        "                   not_happy_pattern,\n",
        "                   next_steps_pattern]"
      ],
      "metadata": {
        "id": "9DfhFoXlkLcP"
      },
      "execution_count": null,
      "outputs": []
    },
    {
      "cell_type": "code",
      "source": [
        "matcher.add(\"WhisperPattern\", [short_term_pattern,\n",
        "                               long_term_pattern,\n",
        "                               happy_pattern,\n",
        "                               not_happy_pattern,\n",
        "                               next_steps_pattern])"
      ],
      "metadata": {
        "id": "CPfQ7tZNM9oD"
      },
      "execution_count": null,
      "outputs": []
    },
    {
      "cell_type": "code",
      "source": [
        "matches = matcher(doc)"
      ],
      "metadata": {
        "id": "haMb6nLffdKe"
      },
      "execution_count": null,
      "outputs": []
    },
    {
      "cell_type": "code",
      "source": [
        "for match_id, start, end in matches:\n",
        "  print(nlp.vocab.strings[match_id])"
      ],
      "metadata": {
        "id": "I9hbL8QZigKU"
      },
      "execution_count": null,
      "outputs": []
    },
    {
      "cell_type": "code",
      "source": [
        "matches"
      ],
      "metadata": {
        "id": "s2ye89Pol5Ty"
      },
      "execution_count": null,
      "outputs": []
    },
    {
      "cell_type": "code",
      "source": [
        "for match_id, start, end in matches:\n",
        "    string_id = nlp.vocab.strings[match_id]  # Get string representation\n",
        "    span = doc[start:end]  # The matched span\n",
        "    print(match_id, string_id, start, end, span.text)\n",
        "    "
      ],
      "metadata": {
        "id": "9x79Kmurcbff"
      },
      "execution_count": null,
      "outputs": []
    },
    {
      "cell_type": "code",
      "source": [
        "matches[0][1]"
      ],
      "metadata": {
        "id": "OahRxDQvn2ST"
      },
      "execution_count": null,
      "outputs": []
    },
    {
      "cell_type": "code",
      "source": [
        "import whisper\n",
        "import pandas as pd\n",
        "import matplotlib.pyplot as plt\n",
        "import numpy as np\n",
        "import gradio as gr\n",
        "import pandas as pd\n",
        "import datetime\n",
        "import spacy\n",
        "from spacy.matcher import Matcher, PhraseMatcher\n",
        "import time\n",
        "\n",
        "def transcribe(file_name):\n",
        "  if file_name:\n",
        "    model = whisper.load_model(name='base')\n",
        "    result = model.transcribe(file_name)\n",
        "    result = result[\"text\"]\n",
        "  else:\n",
        "    result = None \n",
        "  return result\n",
        "\n",
        "def find_information(text_transcript):\n",
        "  short_term_pattern = [{\"LOWER\":\"short\"}, {\"LOWER\": \"term\"}, {\"LEMMA\": \"goal\"}]\n",
        "  long_term_pattern = [{\"LOWER\":\"long\"}, {\"LOWER\": \"term\"}, {\"LEMMA\": \"goal\"}]\n",
        "  happy_pattern = [{\"LOWER\": \"happy\"}, {\"LOWER\": \"about\"}]\n",
        "  not_happy_pattern = [{\"LOWER\": \"not\"}, {\"LOWER\": \"happy\"}, {\"LOWER\": \"about\"}]\n",
        "  next_steps_pattern = [{\"LOWER\": \"next\"}, {\"LOWER\": \"step\"}]\n",
        "  whisper_pattern = [short_term_pattern,\n",
        "                   long_term_pattern,\n",
        "                   happy_pattern,\n",
        "                   not_happy_pattern,\n",
        "                   next_steps_pattern]\n",
        "\n",
        "  nlp=spacy.load(\"en_core_web_sm\")\n",
        "  doc = nlp(text_transcript)\n",
        "  matcher = Matcher(nlp.vocab)\n",
        "  matcher.add(\"WhisperPattern\", whisper_pattern)\n",
        "  matches = matcher(doc)\n",
        "  \n",
        "  initial_span = doc[0: matches[0][1]]\n",
        "  short_term_span = doc[matches[0][1]:matches[1][1]]\n",
        "  long_term_span = doc[matches[1][1]:matches[2][1]]\n",
        "  happy_span = doc[matches[2][1]:matches[3][1]]\n",
        "  not_happy_span = doc[matches[3][1]:matches[4][1]]\n",
        "  next_step_span = doc[matches[4][1]:]\n",
        "\n",
        "  \n",
        "  \n",
        "  return [(initial_span.text, None),\n",
        "          (short_term_span.text, \"ShortTermGoals\"),\n",
        "          (long_term_span.text, \"LongTermGoals\"),\n",
        "          (happy_span.text, \"HappyAbout\"),\n",
        "          (not_happy_span.text, \"NotHappyAbout\"),\n",
        "          (next_step_span.text,\"NextSteps\")\n",
        "          ]\n",
        "\n",
        "def gather_information(df_base,customer_id,\n",
        "                       customer_name,\n",
        "                       meeting_date,\n",
        "                       meeting_time,\n",
        "                       transcription):\n",
        "  information = {k: v for (v,k) in find_information(transcription)}\n",
        "  \n",
        "  df = pd.DataFrame({'customer_ids':[customer_id],\n",
        "             'meeting_date':[meeting_date],\n",
        "             'meeting_time':[meeting_time],\n",
        "             'short_term_goals':[information[\"ShortTermGoals\"]], \n",
        "             'long_term_goals':[information[\"LongTermGoals\"]],\n",
        "             'happy_about':[information[\"HappyAbout\"]],\n",
        "             'not_happy_about':[information[\"NotHappyAbout\"]],\n",
        "             'next_steps':[information[\"NextSteps\"]],\n",
        "             'updated_on': [datetime.datetime.today()]\n",
        "  })\n",
        "  df = df_base.append(df,ignore_index=True)\n",
        "  return {rm_df: df,\n",
        "          df_out: df}\n",
        "\n",
        "with gr.Blocks(theme=gr.themes.Default()) as demo:\n",
        "  with gr.Tab(\"Rcord Meeting\"):  \n",
        "    gr.Markdown(\"## Emp Name: Miss Nobody\")\n",
        "    with gr.Row():\n",
        "      gr.Markdown(\"Emp ID: 324\")\n",
        "      gr.Markdown(\"Branch: Holland Village\")\n",
        "    gr.Markdown(\"---\")\n",
        "    with gr.Row():\n",
        "      with gr.Column():\n",
        "        customer_id = gr.Textbox(label=\"Customer ID\",type=\"text\", interactive=True)\n",
        "        customer_name = gr.Textbox(label=\"Customer Name\",type=\"text\", interactive=True)\n",
        "      with gr.Column():\n",
        "        meeting_date = gr.Textbox(placeholder=datetime.date.today(),label=\"Meeting time\", type=\"text\",interactive=True)\n",
        "        meeting_time = gr.Textbox(placeholder=datetime.datetime.now().strftime(\"%H:%M\"), label=\"Meeting time\", type=\"text\", interactive=True)\n",
        "    audio_record = gr.Audio(source=\"microphone\",label=\"Record the meeting\",type=\"filepath\")\n",
        "    transcription = gr.Textbox(label=\"Meeting notes\", type=\"text\", interactive=True, max_lines=5)\n",
        "    with gr.Row():\n",
        "      clear_button = gr.Button(\"Clear\")\n",
        "      parse_button = gr.Button(\"Parse Report\")\n",
        "\n",
        "    with gr.Accordion(\"See parsed report\"):\n",
        "      highlight_text = gr.HighlightedText()\n",
        "    with gr.Row():\n",
        "      short_term_recommendation = gr.Textbox()\n",
        "      long_term_recommendation = gr.Textbox()\n",
        "    submit_button = gr.Button(\"Submit Report\")\n",
        "\n",
        "    \n",
        "  with gr.Tab(\"Data\"):\n",
        "    rm_df = gr.State(pd.DataFrame())\n",
        "    df_out = gr.Dataframe()\n",
        "    \n",
        "  audio_record.change(transcribe,inputs=audio_record,outputs=transcription)\n",
        "  clear_button.click(lambda: (gr.update(value=None), \n",
        "                              gr.update(value=None), \n",
        "                              gr.update(value=None),\n",
        "                              gr.update(value=None)), \n",
        "                    None, \n",
        "                    [customer_id,\n",
        "                      customer_name, \n",
        "                      audio_record, \n",
        "                      transcription])\n",
        "  parse_button.click(find_information,inputs=transcription,outputs=[highlight_text])\n",
        "  submit_button.click(gather_information,inputs=[rm_df,customer_id, \n",
        "                                                 customer_name,\n",
        "                                                 meeting_date,\n",
        "                                                 meeting_time, \n",
        "                                                 transcription],outputs=[rm_df,df_out],show_progress=True)\n",
        "\n",
        "\n",
        "if __name__ == \"__main__\":\n",
        "    demo.launch(share=True)\n"
      ],
      "metadata": {
        "id": "h0xZGDFmGkQJ"
      },
      "execution_count": null,
      "outputs": []
    },
    {
      "cell_type": "markdown",
      "source": [
        "After getting the long term and short term goals lets find out which products will be best suited for the client. For this exercise we need to get \n",
        "1. Product catelogue of HSBC\n",
        "2. Parsed output of the recording\n",
        "\n",
        "After gettung the inputs we need to compute sementic similarity\n"
      ],
      "metadata": {
        "id": "cy3MiUmuTRrS"
      }
    },
    {
      "cell_type": "code",
      "source": [
        "import spacy\n",
        "\n",
        "# Define the conversation and product description\n",
        "conversation = \"I'm looking for a phone with a good camera\"\n",
        "description = \"This phone has a high-quality camera with 12 megapixels\"\n",
        "\n",
        "\n",
        "# Load the spacy model\n",
        "nlp = spacy.load('en_core_web_md')\n",
        "\n",
        "# Compute the cosine similarity between the document vectors\n",
        "conversation_doc = nlp(conversation)\n",
        "description_doc = nlp(description)\n",
        "similarity = conversation_doc.similarity(description_doc)\n",
        "\n",
        "print(similarity)\n"
      ],
      "metadata": {
        "id": "rqbO4hBtDYMr"
      },
      "execution_count": null,
      "outputs": []
    },
    {
      "cell_type": "code",
      "source": [
        "def recommend_products(conversation, description):\n",
        "  # Load the spacy model\n",
        "  nlp = spacy.load('en_core_web_md')\n",
        "\n",
        "  # Compute the cosine similarity between the document vectors\n",
        "  conversation_doc = nlp(conversation)\n",
        "  description_doc = nlp(description)\n",
        "  similarity = conversation_doc.similarity(description_doc)\n",
        "\n",
        "  return similarity\n",
        "\n",
        "conversation = \"were to fund the education of my kids and insure their collage education in the next 5 years\"\n",
        "# recommend_products(conversation,description)"
      ],
      "metadata": {
        "id": "sPWFqFHKkVtX"
      },
      "execution_count": null,
      "outputs": []
    },
    {
      "cell_type": "code",
      "source": [
        "product_df['similarity_score'] = product_df['description'].apply(recommend_products, args=(text,))"
      ],
      "metadata": {
        "id": "kYJdpHU0lWgF"
      },
      "execution_count": null,
      "outputs": []
    },
    {
      "cell_type": "code",
      "source": [
        "product_df.sort_values(\"similarity_score\", ascending=False).head(3)['products'].values[0]"
      ],
      "metadata": {
        "id": "cLn9amhfrabb"
      },
      "execution_count": null,
      "outputs": []
    },
    {
      "cell_type": "code",
      "source": [
        "product_df"
      ],
      "metadata": {
        "id": "5cC63tpmoE3z"
      },
      "execution_count": null,
      "outputs": []
    },
    {
      "cell_type": "code",
      "source": [
        "product_df.columns"
      ],
      "metadata": {
        "id": "rwZPXHCAT8Ij"
      },
      "execution_count": null,
      "outputs": []
    },
    {
      "cell_type": "code",
      "source": [],
      "metadata": {
        "id": "ac4A71ZynsLp"
      },
      "execution_count": null,
      "outputs": []
    }
  ]
}