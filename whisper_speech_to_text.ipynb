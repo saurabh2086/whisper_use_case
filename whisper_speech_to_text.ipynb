{
  "nbformat": 4,
  "nbformat_minor": 0,
  "metadata": {
    "colab": {
      "private_outputs": true,
      "provenance": [],
      "collapsed_sections": [
        "ah5101kk8OC_",
        "TOfBkUir84a5",
        "4Rw0ZmfO-sF6",
        "12Js86xo93T7",
        "tuDaY7Bh_Npw",
        "qbrdKpSRLzBJ",
        "iW4_RaiiON2O",
        "oVqYyULvPZl9",
        "ZV1cBHlDbJuw",
        "xogqBgvlchDf",
        "6wOnXVy5e3Id",
        "bsBmVOtVxDkl",
        "z9pHJ8kK0hZb",
        "027Lr-TSsGSQ",
        "VHnFH-psTmIw"
      ],
      "authorship_tag": "ABX9TyPFYSE6TGAq0ItFoUc2COMn",
      "include_colab_link": true
    },
    "kernelspec": {
      "name": "python3",
      "display_name": "Python 3"
    },
    "language_info": {
      "name": "python"
    },
    "gpuClass": "standard"
  },
  "cells": [
    {
      "cell_type": "markdown",
      "metadata": {
        "id": "view-in-github",
        "colab_type": "text"
      },
      "source": [
        "<a href=\"https://colab.research.google.com/github/saurabh2086/whisper_use_case/blob/main/whisper_speech_to_text.ipynb\" target=\"_parent\"><img src=\"https://colab.research.google.com/assets/colab-badge.svg\" alt=\"Open In Colab\"/></a>"
      ]
    },
    {
      "cell_type": "markdown",
      "source": [
        "#  1. Installing all the libraries"
      ],
      "metadata": {
        "id": "ah5101kk8OC_"
      }
    },
    {
      "cell_type": "code",
      "execution_count": null,
      "metadata": {
        "id": "Se4IYKPdmNv8"
      },
      "outputs": [],
      "source": [
        "# Installing whisper\n",
        "!pip install git+https://github.com/openai/whisper.git\n",
        "!sudo apt update && sudo apt install ffmpeg\n",
        "\n",
        "# Installing Spacy model\n",
        "import locale\n",
        "locale.getpreferredencoding = lambda: \"UTF-8\"\n",
        "!python -m spacy download en_core_web_md\n",
        "\n",
        "# Installing gradio\n",
        "! pip install gradio -q"
      ]
    },
    {
      "cell_type": "markdown",
      "source": [
        "# Importing libraries"
      ],
      "metadata": {
        "id": "TOfBkUir84a5"
      }
    },
    {
      "cell_type": "code",
      "source": [
        "import whisper\n",
        "import pandas as pd\n",
        "import matplotlib.pyplot as plt\n",
        "import numpy as np\n",
        "import spacy\n",
        "import gradio as gr\n",
        "import pandas as pd\n",
        "import datetime\n",
        "import spacy\n",
        "from spacy.matcher import Matcher, PhraseMatcher\n",
        "import time\n",
        "import pytz"
      ],
      "metadata": {
        "id": "N_hnnLegmmnK"
      },
      "execution_count": null,
      "outputs": []
    },
    {
      "cell_type": "markdown",
      "source": [
        "# HSBC product catalogue"
      ],
      "metadata": {
        "id": "wHdS8CQX4ZmS"
      }
    },
    {
      "cell_type": "code",
      "source": [
        "# product catelogue\n",
        "product_name = [\"Stocks and Securities Trading\",\n",
        "                \"Unit trust investment\",\n",
        "                \"Bonds\",\n",
        "                \"Structured Product\",\n",
        "                \"Dual Currency Plus\",\n",
        "                \"Sustainable Investing\",\n",
        "                \"FX Services\",\n",
        "                \"Everyday Global Account\",\n",
        "                \"Wealth Portfolio Lending\",\n",
        "                \"Sapphire Prestige Income II\",\n",
        "                \"Variable Annuity\",\n",
        "                \"Jade Legacy Universal Life\",\n",
        "                \"Emerald Legacy Life III\",\n",
        "                \"ValueLife Insurance\",\n",
        "                \"Term Protect Advantage\",\n",
        "                \"Wealth Builder\",\n",
        "                \"Retirement Income II\",\n",
        "                \"Savings Protector II\",\n",
        "                \"Goal Builder\",\n",
        "                \"International Health Insurance\",\n",
        "                \"Health Insurance - SmartCare Optimum Enhanced\"\n",
        "                ]\n",
        "product_description = [\"\"\"Start trading stocks and shares with our Stock Trading platform. \\\n",
        "If you are an experienced investor, you'll want to be able to trade stocks and securities freely. \n",
        "With our online stock trading platform you can trade stocks or other securities types. \n",
        "Take advantage of trading opportunities in the US, Singapore and Hong Kong markets.\n",
        "Trade instantly via HSBC Singapore app or online banking.\n",
        "You will have access to Stocks, Exchange Traded Funds (ETF's), Real Estate Investment Trusts (REITs), \n",
        "Global Depository Receipts (GDRs) and American Depository Receipts (ADRs)\n",
        "\"\"\",\n",
        "\"\"\"Grow your wealth through investments with our range of professionally managed unit trusts (or funds).\n",
        "A unit trust fund invests in a diverse portfolio of investments. This helps to diversify your risk better than investing in a single security.\n",
        "You can buy and sell unit trusts on any dealing day with ease - online or through your Relationship Manager.\n",
        "Unit trusts let you access a portfolio of investments from as low as SGD1,000 - a more cost efficient option than building the portfolio yourself.\n",
        "Gain exposure to countries/regions, sectors and investments that are not easily accessible as an individual.\n",
        "Let the experts work for you - your investments are managed by investment professionals who spend their careers researching and managing investments.\n",
        "\"\"\",\n",
        "\"\"\"By investing in bonds, you may receive steady interest income with a potentially higher yield and return compared to the interest you'd earn on cash savings rate over the same amount of time.\n",
        "Higher interest potential than cash savings accounts.\n",
        "Diversify your investment risk.\n",
        "Potential long-term capital gain.\n",
        "Earn a regular stream of interest income.\n",
        "Corporate bonds, supranational bonds, government/quasi-government bonds.\n",
        "Fixed-rate bonds, floating rate coupon bonds.\n",
        "Available in multiple currencies: USD, AUD, CAD, CNH, EUR, GBP, NZD, SGD.\n",
        "\"\"\",\n",
        "\"\"\"If you're looking to spread the risk in your investment portfolio, Structured Products could help you do just that.\n",
        "Customisable according to the investor's market view.\n",
        "Access underlying asset which may otherwise not be readily accessible.\n",
        "Potential yield enhancements.\n",
        "The return on a Structured Product is variable and depend on the performance of the underlying asset\n",
        "Structured Products are investment products where the return is linked to an underlying asset with pre-defined features (tenor, currency, payout calculation etc. )\n",
        "Underlying asset can be equities, interest rates,  commodities, mutual funds & foreign currencies among others.\n",
        "\"\"\",\n",
        "\"\"\"Invest in currency pairs as underlying assets\n",
        "Dual Currency Plus helps you make the most of your foreign currency needs by allowing you to pair two currencies of your choice and making use of foreign exchange fluctuation to enhance your returns.\n",
        "\"\"\",\n",
        "\"\"\"Environmental, Social and Governance (ESG) is a set of criteria that can be applied to how a company operates. \n",
        "When we talk about ESG investing, we're referring to the use of these criteria as factors in our investment decisions and in evaluating potential companies to add to your financial portfolio.\n",
        "\"\"\",\n",
        "\"\"\"\n",
        "Get access to easy FX solutions. Check the latest foreign currency exchange rates in real-time online.\n",
        "Looking to capitalise on foreign exchange rate fluctuations online\n",
        "Our foreign exchange (or commonly known as forex) solutions are designed to help no matter if you're interested in investing in foreign currencies, or need to send money abroad.\n",
        "If you're looking to invest, you should know that forex is the world's most traded investment market.\n",
        "Whether you're an expert or novice investor, our foreign exchange services can help you make the most out of your money.\n",
        "\"\"\",\n",
        "\"\"\"Unlock rewards easily with 1% cashback and enjoy up to SGD300 bonus cash reward.\n",
        "Introducing a multi-currency account that meets your transactional needs in up to 11 different currencies.\n",
        "Send money internationally with the HSBC Global Money Transfers\n",
        "Unlock more benefits with HSBC Everyday+ Rewards Programme\n",
        "\"\"\",\n",
        "\"\"\"Access extra funds for the short term, without cashing out on your existing investments.\n",
        "Invest in your future with a loan backed by your assets.\n",
        "Our Wealth Portfolio Lending loan gives you access to extra funds, and this is secured by your existing eligible HSBC assets acceptable to the bank. \n",
        "The Effective Credit Limit granted is dependent on the type of assets pledged and will be subject to the Bank's approval.\n",
        "A loan can help you easily reach your goals, without having to worry about your cashflow.\n",
        "Plus, you can use your assets flexibly to increase your liquidity, helping to protect your existing wealth and open up new opportunities.\n",
        "Whether you're looking to venture into new investments, treat yourself or settle any unexpected expenses, \n",
        "you can access extra funds without liquidating your existing investments.\n",
        "\"\"\",\n",
        "\"\"\"Secure your legacy with sustainable wealth\n",
        "Building a lasting financial legacy for your family goes beyond accumulating wealth. It's about empowering future generations with financial stability at every life stage.\n",
        "HSBC Life Sapphire Income II is a whole life plan that provides you with regular income to complement your savings so you can enjoy your retirement with peace of mind. \n",
        "It gives you and your loved ones the financial edge to sustain your wealth and build a legacy that lasts for generations.\n",
        "\"\"\",\n",
        "\"\"\"HSBC Life Variable Annuity is a capital guaranteed1 retirement solution that is designed to provide you with a stream of guaranteed monthly retirement income.\n",
        "A one-time investment in US dollars, this plan helps to boost your retirement income by giving you the chance to benefit from market upside performance and protect against downside risk.\n",
        "Capital guaranteed - HSBC Life Variable Annuity retirement solution keeps your capital safe while you stay invested.\n",
        "Benefit from market upsides / Protection when market falls - Your Guaranteed Payout Base (GPB) is locked-in based on the higher account value, whenever it increases on every monthiversaryof your policy. It will never decrease once it is locked-in33 view footnote 3.\n",
        "Receive a stream of guaranteed monthly payouts and potential lump sum at the end of the policy term to fund your retirement.\n",
        "High liquidity - access your account value any time without charge!\n",
        "\"\"\",\n",
        "\"\"\"Jade Legacy Universal Life Plan and Jade Ultra Legacy Universal Life Plan are designed for individuals or business owners who are seeking life insurance protection and potential wealth accumulation.\n",
        "Your financial circumstances and goals for the future are unique to you. Customise the solution to meet a wide range of estate-planning needs, thus securing your legacy through the generations and the financial future of your loved ones.\n",
        "Provide more for your legacy without compromising your retirement lifestyle\n",
        "Grow your cash value with guaranteed interest rate lock option and exclusive loyalty bonus\n",
        "Build a stronger foundation for your future generations with multi-generational planning\n",
        "Preserving the value of the assets you acquired for your loved ones\n",
        "\"\"\",\n",
        "\"\"\"Your legacy is much more than the wealth you leave behind for your family. We are here to help you grow your legacy and ensure your plans for your loved ones are taken care of, and lead them to greater success with financial assurance and support.\n",
        "Grow your legacy with HSBC Life Emerald Legacy Life III - a single premium whole life plan. So you can rest assured that your wealth is preserved for your family or passed on for many more generations to come.\n",
        "Coverage for death and terminal illness, up to age 99.\n",
        "Option to replace the life insured when the need arises, for both corporate and individual policies11 view footnote 1.\n",
        "5% of the single premium paid will be refunded to you when the life insured quits smoking anytime22 view footnote 2 within the first 4 policy years.\n",
        "Available in both SGD and USD.\n",
        "\"\"\",\n",
        "\"\"\"At HSBC, we understand you want the assurance of lifetime protection, without the burden of paying premiums in your golden years. Which is why we have designed ValueLife to offer you the freedom to live life to the fullest. \n",
        "It's a smarter way to invest in what matters most - your future.\n",
        "ValueLife is a non-participating whole life insurance plan that lets you reduce your coverage, at either ANB 65 or 80.\n",
        "When it comes to your later stages in life, most of your life and financial goals would have been achieved. Unlike typical whole-of-life plans, you can reduce your coverage, creating an opportunity for cost savings.\n",
        "Guaranteed lifetime protection with a limited premium paying term\n",
        "ValueLife is designed with your future in mind. Pay regular premiums for only the first 15 years and be insured against Death and Terminal Illness up to ANB 99, and Total and Permanent Disability before ANB 65.\n",
        "Guaranteed refund of premiums\n",
        "With ValueLife, you’ll receive 100% of the total premiums paid at the end of year 15, if you decide to surrender your policy and if there is no premium loading.\n",
        "Guaranteed maturity benefit\n",
        "If no claims have been made up to ANB 99, the reduced Sum Insured, i.e. 70% of the basic Sum Insured, will be paid out in one lump sum as the maturity benefit.\n",
        "\"\"\",\n",
        "\"\"\"With Term Protect Advantage, you have the flexibility to choose your preferred premium and policy term, and receive the surrender value11 view footnote 1, when the coverage is no longer needed.\n",
        "Affordable protection coverage.Challenging times call for an affordable policy, which protects you against death terminal illness, so you can allocate your money to where you need it most.\n",
        "Flexible premium and policy term.Take control of your financial future by choosing the term of your coverage and how long you wish to pay for it.\n",
        "Boost your coverage with Guaranteed Insurability Option.Our financial needs often change with our life stages. With Term Protect Advantage, you can increase your coverage at life key milestones without medical underwriting.\n",
        "Convertibility benefit.Later in life, you may change to any whole life or endowment plan (that is available to you at that point in time) without medical underwriting.\n",
        "Unemployment support benefit.You may pay your premium at a later date (up to 365 days) if you become unemployed.\n",
        "Guaranteed surrender value.When you no longer need the coverage, you can surrender your policy and receive the guaranteed surrender value of your policy (available for only limited pay option).\n",
        "\"\"\",\n",
        "\"\"\"HSBC Life Wealth Builder is a flexible, savings plan that allows you to potentially grow your wealth through long-term accumulation (up to age 12011 view footnote 1), giving the financial assurance you need for you, your child, possibly even your grandchildren.\n",
        "Flexibility to build a plan to your preference.Choose premium term of Single Premium, 5, 10, or 15 years.\n",
        "Option to pause your premiums payment without policy lapsing.\n",
        "Option to jointly buy the policy with your spouse.\n",
        "Receive both guaranteed and non-guaranteed bonuses.\n",
        "Access to the cash value of the policy.While the plan builds its cash value, you can still access to your savings whenever you need to fund key milestones.\n",
        "Policy continuity to ensure the cash value keep growing.Option to appoint your spouse or child as the Secondary Life Insured.\n",
        "Remaining premiums are waived if you suffer from Total and Permanent Disability (TPD).\n",
        "\"\"\",\n",
        "\"\"\"\n",
        "HSBC Life Retirement Income II gives you monthly financial support so you can keep the promises you’re most looking forward to\n",
        "Retire on your own terms. Tailor your policy so you can get closer to fulfilling your retirement aspirations.  Customise your plan with the following options:\n",
        "Retirement Age at 55, 60, 65, 70. Desired Guaranteed Monthly Payout from S$300.\n",
        "Flexible premium term options - Single Premium, 5 or 10 years.\n",
        "Income Payout Period with 10, 15, 20 years or to age 99.\n",
        "Fund your policy with cash or monies from Supplementary Retirement Scheme account.\n",
        "Unemployment Support Benefit.n case of Unemployment you have the option to defer premium payments for up to 365 days.\n",
        "All future premiums will be waived if you or your spouse is diagnosed with Total and Permanent Disability, or in the event of your spouse’s death.\n",
        "Chronic Illness Care Benefit.Receive additional 100% of the Guaranteed Monthly Payout if diagnosed with Loss of Independence, Idiopathic Parkinson's Disease, Alzheimer's Disease/ Severe Dementia or Major Head Trauma.\n",
        "Mobility Care Benefit.Receive a single lump sum payout worth 20 times Guaranteed Monthly Payout (up to S$25,000) if diagnosed with Osteoporosis with Fractures or Severe Rheumatoid Arthritis.\n",
        "\"\"\",\n",
        "\"\"\"HSBC Life Savings Protector II provides assurance to your loved ones that they can count on the commitment you make. Seal your commitments with HSBC Life Savings Protector II which will not only protect your savings but provides flexibility to potentially earn higher returns.\n",
        "Whether it is planning for a comfortable retirement or providing for your children's education, HSBC Life Savings Protector II can help you to seal your goals. This plan is suitable if you wish to have a higher protection coverage to protect your financial goals.\n",
        "HSBC Life Savings Protector II guarantees your capital11 view footnote 1 at the end of the policy term even during a market downturn. You can also potentially enjoy higher payouts through non-guaranteed reversionary22 view footnote 2 and terminal33 view footnote 3 bonuses on maturity.\n",
        "HSBC Life Savings Protector II can be tailored to best fit your needs. You can choose premium payment terms of 3 or 5 years to suit your financial situation.\n",
        "\"\"\",\n",
        "\"\"\"Our Goal Builder is a limited premium investment-linked plan that can give you lifelong protection. With over 70 world-class funds to choose from, it also provides high flexibility to grow your wealth.\n",
        "If you want to grow your wealth and protect yourself and your family at the same time, the HSBC Life Goal Builder could be the right option for you.\n",
        "Access to over 70 world-class funds\n",
        "No premium charges, and all basic premiums go towards investing into funds of your choice\n",
        "Option to re-balance your fund holdings automatically\n",
        "No product administrative fees44 view footnote 4 from policy year 25 onwards\n",
        "Top up premiums allowed at any time through both ad-hoc or regular top up arrangement.\n",
        "Unlimited ad hoc or pre-planned regular withdrawal.Potentially create an income stream by investing in dividend-paying funds.\n",
        "Lifelong protection for death or terminal illness.Complimentary accidental death coverage up to age 75.\n",
        "Option to enhance the death benefits up to 10 times of annual premium.No medical examinations required.Available in both SGD and USD.\n",
        "\"\"\",\n",
        "\"\"\"Hospital charges incurred during an in-patient hospital stay are covered, giving you peace of mind throughout your hospital treatment.\n",
        "Out-patient benefits including cover for general practitioner and specialist consultations, prescribed drugs and dressings and necessary diagnostic tests, and vaccinations up to the limits shown.\n",
        "Depending on where in the world you reside, travel to or wish to receive treatment, there are 3 geographical areas of cover designed to suit your needs: Asia, Worldwide excluding USA, and Worldwide\n",
        "\"\"\",\n",
        "\"\"\"No limit to number of days of hospital stay.Dread disease recuperation.Cash allowance while hospitalised.Inpatient psychiatric treatment.\n",
        "Greater coverage, Cashless outpatient visits to our panel general practitioners.\n",
        "Alternative treatment under Platinum and Gold Plan i.e. consultation and treatment provided by registered chiropractor, podiatrist, dietitian, nutritionist, naturopath, acupuncturist, homeopath, osteopath, TCM and physiotherapist.\n",
        "Pediatrician consultation benefit (waiver of general practitioner referral letter for insured child below 36 months).\n",
        "As charged benefits.No co-payment & deductible.Cover up to age 80.Stable portfolio pricing i.e. HSBC Life (Singapore) Pte. Ltd. will not impose capping on your medical conditions or additional loadings on your premium upon renewal as a result of your personal claims experience.\n",
        "While most health insurance plans cover you for hospitalisation only, SmartCare Optimum Enhanced now offers you optional riders to complement your core plan.\n",
        "Dental rider – provides coverage for outpatient visit to dentist (20% co-payment applies).\n",
        "Travel inconvenience rider – enhance your travel benefits for your next vacation or business trips.\n",
        "With just a call from anywhere in the world, you can stay connected to our 24-hour customer service assistance hotline and get access to assistance for emergency medical evacuation and repatriation services.\n",
        "With a choie of three comprehensive plans, you have the flexibility of selecting the plan that best suits your needs and budget.\n",
        "With SmartCare Optimum Enhanced there is no restriction on your choice of hospital. This means that you can choose to receive treatment in a public or a private hospital.\n",
        "\"\"\"\n",
        "]"
      ],
      "metadata": {
        "id": "7zn3k9Oqe_CF"
      },
      "execution_count": null,
      "outputs": []
    },
    {
      "cell_type": "markdown",
      "source": [
        "#### storing to a dataframe"
      ],
      "metadata": {
        "id": "_E0fCHXy9mUh"
      }
    },
    {
      "cell_type": "code",
      "source": [
        "product_df = pd.DataFrame(dict(products=product_name, description=product_description))\n",
        "products = product_df[\"products\"].values.tolist()"
      ],
      "metadata": {
        "id": "LccNQTNm16SL"
      },
      "execution_count": null,
      "outputs": []
    },
    {
      "cell_type": "markdown",
      "source": [
        "# Transcription text example"
      ],
      "metadata": {
        "id": "-bXFQZaXNQNN"
      }
    },
    {
      "cell_type": "code",
      "source": [
        "text = \"\"\"Hi, today I met a client at the Revo City branch and we had a discussion for about one hour. \n",
        "The name of the client was Mr. XYZ and we talked about various financial aspects of the client. \n",
        "Based on our discussion the short term goals of the client were borrow money to fund his housing purchase. He wants to use\n",
        "his existing funds to borrow loan which can act as a collateral.\n",
        "He also wants to diversify his current investment by investing in multiple products such as commodities currency and\n",
        "stocks.\n",
        "The long term goals of this client to the few\n",
        "long term plans like my sending his kids to college in the US and buying a few more investment properties as well as \n",
        "he wants to invest in bond. He is also concerned about insurance so currently he has medical insurance but he \n",
        "wants to take a life insurance as well that will cover him for life. He is looking for a term for maybe around \n",
        "99 years or something. The client is happy about  with HSBC that HSBC is in multiple countries so he wants to\n",
        "fund the EGA account using which he can have his money in various currencies. He also likes the network of HSBC and the \n",
        "services we provide. The thing he is not happy about the latency between fund transfers. Sometimes it takes one or \n",
        "two days for funds to reflect. He was asking if we have any plans to change that. On the next step I suggest \n",
        "that we should plan the insurance part of this client since the other plans are more merely short terms and \n",
        "for the long term plans we need to put the right insurance in place, and he requires more FX services in the future\"\"\""
      ],
      "metadata": {
        "id": "cZF4RNr9NPL2"
      },
      "execution_count": null,
      "outputs": []
    },
    {
      "cell_type": "markdown",
      "source": [
        "# Supporting functions"
      ],
      "metadata": {
        "id": "H2Jxm_V58G3m"
      }
    },
    {
      "cell_type": "markdown",
      "source": [
        "#### define patterns\n"
      ],
      "metadata": {
        "id": "4Rw0ZmfO-sF6"
      }
    },
    {
      "cell_type": "code",
      "source": [
        "short_term_pattern = [{\"LOWER\":\"short\"},{\"ORTH\":\"-\",\"OP\":\"?\"},{\"LOWER\": \"term\"}, {\"LEMMA\": \"goal\"}]\n",
        "long_term_pattern = [{\"LOWER\":\"long\"},{\"ORTH\":\"-\",\"OP\":\"?\"}, {\"LOWER\": \"term\"}, {\"LEMMA\": \"goal\"}]\n",
        "happy_pattern = [{\"LOWER\": \"happy\"}, {\"LOWER\": \"about\"}]\n",
        "not_happy_pattern = [{\"LOWER\": \"not\"}, {\"LOWER\": \"happy\"}, {\"LOWER\": \"about\"}]\n",
        "next_steps_pattern = [{\"LOWER\": \"next\"}, {\"LEMMA\": \"step\"}]\n",
        "other_info_pattern = [{\"LOWER\": \"other\"}, {\"LEMMA\": \"important\"}, {\"LEMMA\": \"information\"}]\n"
      ],
      "metadata": {
        "id": "NNcVZThE_CSq"
      },
      "execution_count": null,
      "outputs": []
    },
    {
      "cell_type": "markdown",
      "source": [
        "#### Voice to text transcription function "
      ],
      "metadata": {
        "id": "12Js86xo93T7"
      }
    },
    {
      "cell_type": "code",
      "source": [
        "def transcribe(file_name):\n",
        "  if file_name:\n",
        "    model = whisper.load_model(name='base')\n",
        "    result = model.transcribe(file_name)\n",
        "    result = result[\"text\"]\n",
        "  else:\n",
        "    result = None \n",
        "  return result"
      ],
      "metadata": {
        "id": "wOKgwwgi-Bc-"
      },
      "execution_count": null,
      "outputs": []
    },
    {
      "cell_type": "markdown",
      "source": [
        "#### Loading spacy model"
      ],
      "metadata": {
        "id": "tuDaY7Bh_Npw"
      }
    },
    {
      "cell_type": "code",
      "source": [
        "# Load the spacy model\n",
        "nlp = spacy.load('en_core_web_md')\n",
        "nlp_sm = spacy.load('en_core_web_sm')"
      ],
      "metadata": {
        "id": "mjTHy8RT_Qb5"
      },
      "execution_count": null,
      "outputs": []
    },
    {
      "cell_type": "markdown",
      "source": [
        "#### Find short term goals"
      ],
      "metadata": {
        "id": "qbrdKpSRLzBJ"
      }
    },
    {
      "cell_type": "code",
      "source": [
        "def find_short_term_goals(text):\n",
        "  doc = nlp(text)\n",
        "  matcher = Matcher(nlp.vocab)\n",
        "  matcher.add(\"short_term_pattern\",[short_term_pattern])\n",
        "  matches = matcher(doc)\n",
        "  return matches"
      ],
      "metadata": {
        "id": "D6z3dPakL5Cr"
      },
      "execution_count": null,
      "outputs": []
    },
    {
      "cell_type": "markdown",
      "source": [
        "#### Find Long term goals"
      ],
      "metadata": {
        "id": "iW4_RaiiON2O"
      }
    },
    {
      "cell_type": "code",
      "source": [
        "def find_long_term_goals(text):\n",
        "  doc = nlp(text)\n",
        "  matcher = Matcher(nlp.vocab)\n",
        "  matcher.add(\"long_term_pattern\",[long_term_pattern])\n",
        "  matches = matcher(doc)\n",
        "  return matches"
      ],
      "metadata": {
        "id": "Jcl1lwoUOTSw"
      },
      "execution_count": null,
      "outputs": []
    },
    {
      "cell_type": "markdown",
      "source": [
        "#### Find happy about"
      ],
      "metadata": {
        "id": "oVqYyULvPZl9"
      }
    },
    {
      "cell_type": "code",
      "source": [
        "def find_happy_about(text):\n",
        "  doc = nlp(text)\n",
        "  matcher = Matcher(nlp.vocab)\n",
        "  matcher.add(\"happy_pattern\",[happy_pattern])\n",
        "  matches = matcher(doc)\n",
        "  return matches"
      ],
      "metadata": {
        "id": "sS3oyZGkP_Bh"
      },
      "execution_count": null,
      "outputs": []
    },
    {
      "cell_type": "markdown",
      "source": [
        "#### Find not happy about"
      ],
      "metadata": {
        "id": "ZV1cBHlDbJuw"
      }
    },
    {
      "cell_type": "code",
      "source": [
        "def find_not_happy_about(text):\n",
        "  doc = nlp(text)\n",
        "  matcher = Matcher(nlp.vocab)\n",
        "  matcher.add(\"not_happy_pattern\",[not_happy_pattern])\n",
        "  matches = matcher(doc)\n",
        "  return matches"
      ],
      "metadata": {
        "id": "N4OXxEq6bZMg"
      },
      "execution_count": null,
      "outputs": []
    },
    {
      "cell_type": "markdown",
      "source": [
        "#### Find next steps"
      ],
      "metadata": {
        "id": "xogqBgvlchDf"
      }
    },
    {
      "cell_type": "code",
      "source": [
        "def find_next_steps(text):\n",
        "  doc = nlp(text)\n",
        "  matcher = Matcher(nlp.vocab)\n",
        "  matcher.add(\"next_steps\",[next_steps_pattern])\n",
        "  matches = matcher(doc)\n",
        "  return matches"
      ],
      "metadata": {
        "id": "c70kna_nc1sC"
      },
      "execution_count": null,
      "outputs": []
    },
    {
      "cell_type": "markdown",
      "source": [
        "#### Find other important information"
      ],
      "metadata": {
        "id": "6wOnXVy5e3Id"
      }
    },
    {
      "cell_type": "code",
      "source": [
        "def find_other_imp_info(text):\n",
        "  doc = nlp(text)\n",
        "  matcher = Matcher(nlp.vocab)\n",
        "  matcher.add(\"other_info_pattern\",[other_info_pattern])\n",
        "  matches = matcher(doc)\n",
        "  return matches"
      ],
      "metadata": {
        "id": "VFzWkdp3fQNZ"
      },
      "execution_count": null,
      "outputs": []
    },
    {
      "cell_type": "markdown",
      "source": [
        "#### find next big number"
      ],
      "metadata": {
        "id": "bsBmVOtVxDkl"
      }
    },
    {
      "cell_type": "code",
      "source": [
        "def find_stop_index(a,n):\n",
        "  a = np.sort(a)\n",
        "  stop_index = a[a > n][0]\n",
        "  return stop_index"
      ],
      "metadata": {
        "id": "ff_vDK9KxMO9"
      },
      "execution_count": null,
      "outputs": []
    },
    {
      "cell_type": "markdown",
      "source": [
        "#### find text span"
      ],
      "metadata": {
        "id": "z9pHJ8kK0hZb"
      }
    },
    {
      "cell_type": "code",
      "source": [
        "def find_span(a,match_id,doc):\n",
        "  if len(match_id) > 0:\n",
        "    start_id = match_id[0][1]\n",
        "    end_id = find_stop_index(a,start_id)\n",
        "    span = doc[start_id:end_id]\n",
        "    return span.text\n",
        "  else:\n",
        "    return None"
      ],
      "metadata": {
        "id": "ss7w0-Eu0o2b"
      },
      "execution_count": null,
      "outputs": []
    },
    {
      "cell_type": "markdown",
      "source": [
        "#### Find all informations in the text"
      ],
      "metadata": {
        "id": "027Lr-TSsGSQ"
      }
    },
    {
      "cell_type": "code",
      "source": [
        "def find_information(text):\n",
        "  doc = nlp(text)\n",
        "  # find short term goal\n",
        "  short_term = find_short_term_goals(text)\n",
        "  long_term = find_long_term_goals(text)\n",
        "  happy = find_happy_about(text)\n",
        "  not_happy = find_not_happy_about(text)\n",
        "  next_step = find_next_steps(text)\n",
        "  other_info = find_other_imp_info(text)\n",
        "\n",
        "  list_steps = [short_term, long_term,happy,not_happy,next_step,other_info]\n",
        "  start_indices = np.array([m[0][1] for m in list_steps if len(m)>0])\n",
        "  start_indices = np.append(start_indices,[len(text)])\n",
        "\n",
        "  short_term_span = find_span(start_indices,short_term,doc)\n",
        "  long_term_span = find_span(start_indices,long_term,doc)\n",
        "  happy_span = find_span(start_indices,happy,doc)\n",
        "  not_happy_span = find_span(start_indices,not_happy,doc)\n",
        "  next_step_span = find_span(start_indices,next_step,doc)\n",
        "  other_info_span = find_span(start_indices,other_info,doc)\n",
        "\n",
        "  all_info = {\"short_term_goals\" : short_term_span,\n",
        "              \"long_term_goals\" : long_term_span,\n",
        "              \"happy_about\" : happy_span,\n",
        "              \"not_happy_about\" : not_happy_span,\n",
        "              \"next_steps\" : next_step_span,\n",
        "              \"other_imp_info\" : other_info_span\n",
        "              }\n",
        "\n",
        "  return all_info"
      ],
      "metadata": {
        "id": "EEUu8FHaOnJ1"
      },
      "execution_count": null,
      "outputs": []
    },
    {
      "cell_type": "markdown",
      "source": [
        "#### Find similarity between two texts"
      ],
      "metadata": {
        "id": "VHnFH-psTmIw"
      }
    },
    {
      "cell_type": "code",
      "source": [
        "def find_similarity(conversation, description):\n",
        "  \n",
        "  # Compute the cosine similarity between the document vectors\n",
        "  conversation_doc = nlp(conversation)\n",
        "  description_doc = nlp(description)\n",
        "  similarity = conversation_doc.similarity(description_doc)\n",
        "\n",
        "  return similarity"
      ],
      "metadata": {
        "id": "s7mw5E3kTq6r"
      },
      "execution_count": null,
      "outputs": []
    },
    {
      "cell_type": "markdown",
      "source": [
        "#### Find top three recommendation"
      ],
      "metadata": {
        "id": "IIB4NVVwXDxB"
      }
    },
    {
      "cell_type": "code",
      "source": [
        "def find_recommendation(prod_desc, conversation, k=3):\n",
        "  prod_desc['similarity_score'] = (prod_desc['description']\n",
        "                                   .apply(find_similarity, \n",
        "                                          args=(conversation,))\n",
        "                                   )\n",
        "  sum_score = prod_desc['similarity_score'].sum()\n",
        "  prod_desc['norm_sim_score'] =  prod_desc['similarity_score']/sum_score\n",
        "\n",
        "  top_df = prod_desc.sort_values(\"norm_sim_score\", ascending=False).head(k)\n",
        "\n",
        "  rec = top_df[[\"products\",\"similarity_score\"]].set_index(\"products\").to_dict(\"dict\")\n",
        "\n",
        "  return rec[\"similarity_score\"]\n",
        "\n",
        "  "
      ],
      "metadata": {
        "id": "nm5XMRTiXKQZ"
      },
      "execution_count": null,
      "outputs": []
    },
    {
      "cell_type": "markdown",
      "source": [
        "#### Getting date and time"
      ],
      "metadata": {
        "id": "t6M2ZAcg-4yP"
      }
    },
    {
      "cell_type": "code",
      "source": [
        "# get the current UTC time\n",
        "utc_time = datetime.datetime.utcnow()\n",
        "# set the timezone you want to display\n",
        "timezone = pytz.timezone('Asia/Singapore')\n",
        "# convert the UTC time to the timezone you want to display\n",
        "display_time = utc_time.replace(tzinfo=pytz.utc).astimezone(timezone)\n",
        "# format the display time as a string\n",
        "display_date_str = display_time.strftime('%Y-%m-%d')\n",
        "display_time_str = display_time.strftime('%I:%M %p')"
      ],
      "metadata": {
        "id": "z3pELoAF-2DP"
      },
      "execution_count": null,
      "outputs": []
    },
    {
      "cell_type": "markdown",
      "source": [
        "# Functions to update components"
      ],
      "metadata": {
        "id": "IQTBNquu83Jq"
      }
    },
    {
      "cell_type": "markdown",
      "source": [
        "#### Update transcription text"
      ],
      "metadata": {
        "id": "cjVfa19F0xoR"
      }
    },
    {
      "cell_type": "code",
      "source": [
        "def update_transcription_text(audio_file):\n",
        "  transcription = transcribe(audio_file)\n",
        "  return transcription"
      ],
      "metadata": {
        "id": "-3i0yNYv0xJ3"
      },
      "execution_count": null,
      "outputs": []
    },
    {
      "cell_type": "markdown",
      "source": [
        "#### Clear audio button"
      ],
      "metadata": {
        "id": "eQ59hWxn22w9"
      }
    },
    {
      "cell_type": "code",
      "source": [
        "def clear_audio_button():\n",
        "  return None"
      ],
      "metadata": {
        "id": "cCNvDQAg3J5g"
      },
      "execution_count": null,
      "outputs": []
    },
    {
      "cell_type": "markdown",
      "source": [
        "#### Update short-term long-term goals"
      ],
      "metadata": {
        "id": "EvnoDtWU5aMm"
      }
    },
    {
      "cell_type": "code",
      "source": [
        "def update_short_long_term_goals(text):\n",
        "  all_info = find_information(text)\n",
        "  return {short_term_goals: all_info[\"short_term_goals\"],\n",
        "          long_term_goals: all_info[\"long_term_goals\"]\n",
        "          }"
      ],
      "metadata": {
        "id": "B7nhHqmf5fu4"
      },
      "execution_count": null,
      "outputs": []
    },
    {
      "cell_type": "markdown",
      "source": [
        "#### Record New meeting button click"
      ],
      "metadata": {
        "id": "eK-fCR6n8y95"
      }
    },
    {
      "cell_type": "code",
      "source": [
        "def record_new_meeting():\n",
        "  return [None, '']"
      ],
      "metadata": {
        "id": "aI3iqPCu9Rpx"
      },
      "execution_count": null,
      "outputs": []
    },
    {
      "cell_type": "markdown",
      "source": [
        "#### Recommend HSBC product button click"
      ],
      "metadata": {
        "id": "72XOjzg1IcdO"
      }
    },
    {
      "cell_type": "code",
      "source": [
        "def recommend_hsbc_product(short_term_goals, long_term_goals):\n",
        "  if short_term_goals is not None:\n",
        "    short_rec = find_recommendation(product_df,short_term_goals)\n",
        "  else: \n",
        "    short_rec = None\n",
        "\n",
        "  if long_term_goals is not None:\n",
        "    long_rec = find_recommendation(product_df,long_term_goals)\n",
        "  else: \n",
        "    long_rec = None\n",
        "\n",
        "  recommendations = {short_term_rec: short_rec,\n",
        "                     long_term_rec: long_rec\n",
        "                     }\n",
        "  return recommendations"
      ],
      "metadata": {
        "id": "cdcJmz9OIh2D"
      },
      "execution_count": null,
      "outputs": []
    },
    {
      "cell_type": "markdown",
      "source": [
        "#### Submit record"
      ],
      "metadata": {
        "id": "oXwI7nlDbTcB"
      }
    },
    {
      "cell_type": "code",
      "source": [
        "def submit_all_records(df_base1, df_base2,\n",
        "                       customer_id,customer_name,meeting_date,\n",
        "                       meeting_time,transcription,\n",
        "                       short_term_rec,long_term_rec,\n",
        "                       rm_rec_sort,rm_rec_long):\n",
        "  update_datetime = datetime.datetime.today()\n",
        "  cust_info = {\"name\": customer_name,\n",
        "               \"id\": customer_id\n",
        "               }\n",
        "  meeting_info = {\"date\": meeting_date,\n",
        "                  \"time\": meeting_time\n",
        "                  }\n",
        "  information = find_information(text)\n",
        "\n",
        "  short_rec = [k['label'] for k in short_term_rec['confidences']]\n",
        "  long_rec = [k['label'] for k in long_term_rec['confidences']]\n",
        "\n",
        "  content_based_rec = {\"ShortTermRec\": short_rec,\n",
        "                       \"LongTermRec\": long_rec\n",
        "                       }\n",
        "  rm_rec = {\"ShortTermRec\": rm_rec_sort,\n",
        "            \"LongTermRec\": rm_rec_long\n",
        "            }\n",
        "  record1 = {\n",
        "      \"update_datetime\": [update_datetime],\n",
        "      \"customer_info\": [str(cust_info)],\n",
        "      \"meeting_info\": [str(meeting_info)],\n",
        "      \"meeting_summary\": [str(information)],\n",
        "      }\n",
        "\n",
        "  record2 = {\n",
        "      \"update_datetime\": [update_datetime],\n",
        "      \"customer_info\": [str(cust_info)],\n",
        "      \"content_based_recommendation\":[str(content_based_rec)],\n",
        "      \"RM_recommendation\":[str(rm_rec)]\n",
        "      }\n",
        "\n",
        "  df1 = pd.DataFrame(record1)\n",
        "  df1 = pd.concat([df_base1,df1],ignore_index=True)\n",
        "\n",
        "  df2 = pd.DataFrame(record2)\n",
        "  df2 = pd.concat([df_base2,df2],ignore_index=True)\n",
        "\n",
        "\n",
        "  return {rm_df: df1,\n",
        "          df_out: df1,\n",
        "          rec_df: df2,\n",
        "          df_rec_out:df2\n",
        "          }\n",
        "\n",
        "  "
      ],
      "metadata": {
        "id": "1uFcwd8MbXx8"
      },
      "execution_count": null,
      "outputs": []
    },
    {
      "cell_type": "markdown",
      "source": [
        "# Design components"
      ],
      "metadata": {
        "id": "2htRgNfaeaMQ"
      }
    },
    {
      "cell_type": "code",
      "source": [
        "EMPLOYEE_ID = \"32467953\"\n",
        "EMPLOYEE_NAME = \"Miss Nobody\"\n",
        "EMPLOYEE_BRANCH = \"Holland Village\"\n",
        "CUSTOMER_ID = \"SGHSPE73539362\"\n",
        "CUSTOMER_NAME = \"Josué Prieto\"\n",
        "DATE = display_date_str\n",
        "TIME = display_time_str\n",
        "\n",
        "INSTRUCTION = \"\"\"1. Short term goals\n",
        "2. Long term goals\n",
        "3. Happy about\n",
        "4. Not happy about\n",
        "5. Next steps\n",
        "6. Other important information\"\"\""
      ],
      "metadata": {
        "id": "wcDaVh61efR2"
      },
      "execution_count": null,
      "outputs": []
    },
    {
      "cell_type": "markdown",
      "source": [
        "# New Design"
      ],
      "metadata": {
        "id": "_puTTHnEgRGl"
      }
    },
    {
      "cell_type": "code",
      "source": [
        "with gr.Blocks() as demo:\n",
        "  with gr.Tab(\"Rcord Meeting\"):  \n",
        "    gr.Markdown(value=f\"## Emp Name: {EMPLOYEE_NAME}\")\n",
        "    with gr.Row():\n",
        "      gr.Markdown(f\"Emp ID: {EMPLOYEE_ID}\")\n",
        "      gr.Markdown(f\"Branch: {EMPLOYEE_BRANCH}\")\n",
        "    gr.Markdown(\"---\")\n",
        "    with gr.Row():\n",
        "      with gr.Column():\n",
        "        customer_id = gr.Textbox(value=CUSTOMER_ID,\n",
        "                                 label=\"Customer ID\",\n",
        "                                 type=\"text\", \n",
        "                                 interactive=True)\n",
        "        customer_name = gr.Textbox(value=CUSTOMER_NAME, \n",
        "                                   label=\"Customer Name\",\n",
        "                                   type=\"text\", \n",
        "                                   interactive=True)\n",
        "      with gr.Column():\n",
        "        meeting_date = gr.Textbox(value=DATE,\n",
        "                                  label=\"Meeting Date\", \n",
        "                                  type=\"text\",\n",
        "                                  interactive=True)\n",
        "        meeting_time = gr.Textbox(value=TIME, \n",
        "                                  label=\"Meeting Time\", \n",
        "                                  type=\"text\", \n",
        "                                  interactive=True)\n",
        "    with gr.Row(): \n",
        "      with gr.Box():\n",
        "        with gr.Row(): \n",
        "          audio_record = gr.Microphone(type=\"filepath\",\n",
        "                                      label=\"Meeting Summary\"\n",
        "                                      )\n",
        "          audio_clear_button = gr.Button(\"Clear Recording\")\n",
        "        instruction = gr.Textbox(value=INSTRUCTION, \n",
        "                                 label=\"Recording Instructions\")\n",
        "      with gr.Box():\n",
        "        transcription = gr.Textbox(label=\"Transcription\", \n",
        "                                  type=\"text\", \n",
        "                                  interactive=True,\n",
        "                                  placeholder = \"Audio Transcription will appear here\", \n",
        "                                  max_lines=10)\n",
        "    with gr.Row():\n",
        "      short_term_goals = gr.Textbox(label=\"Short term goals\",\n",
        "                                    type = \"text\",\n",
        "                                    interactive = True,\n",
        "                                    placeholder = \"Short term goals of the client\",\n",
        "                                    max_lines = 5\n",
        "                                    )\n",
        "      long_term_goals = gr.Textbox(label=\"Long term goals\",\n",
        "                                    type = \"text\",\n",
        "                                    interactive = True,\n",
        "                                    placeholder = \"Long term goals of the client\",\n",
        "                                    max_lines = 5\n",
        "                                    )\n",
        "    with gr.Row():\n",
        "      new_meeting_button = gr.Button(\"Record New Meeting\")\n",
        "      rec_products = gr.Button(\"Recommend HSBC Products\")\n",
        "    with gr.Row():\n",
        "      short_term_rec = gr.Label(label=\"Short-term recommendation\")\n",
        "      long_term_rec = gr.Label(label=\"Long-term recommendation\")\n",
        "\n",
        "    with gr.Box():\n",
        "      gr.Markdown(\"## Products recommended by RM\")\n",
        "      with gr.Row():\n",
        "        rm_rec_sort = gr.Dropdown(choices=products,\n",
        "                                  multiselect = True,\n",
        "                                  label=\"Short Term\",\n",
        "                                  info=\"RM recommended product, suitable for the short-term goal\")\n",
        "        rm_rec_long = gr.Dropdown(choices=products,\n",
        "                                  multiselect=True,\n",
        "                                  label=\"Long Term\",\n",
        "                                  info=\"RM recommended product suitable for the long-term goal\")\n",
        "    submit_button = gr.Button(\"Submit Record\")\n",
        "      \n",
        "  with gr.Tab(\"Data\"):\n",
        "    rm_df = gr.State(pd.DataFrame())\n",
        "    rec_df = gr.State(pd.DataFrame())\n",
        "    gr.Markdown(\"## Meeting Information Data\")\n",
        "    df_out = gr.Dataframe(wrap=True)\n",
        "    gr.Markdown(\"---\")\n",
        "    gr.Markdown(\"## Recommendation Data\")\n",
        "    df_rec_out = gr.Dataframe(wrap=True)\n",
        "  \n",
        "  \n",
        "  audio_record.change(update_transcription_text,audio_record,transcription)\n",
        "  audio_clear_button.click(clear_audio_button,[],audio_record)\n",
        "  transcription.change(update_short_long_term_goals,\n",
        "                       transcription,\n",
        "                       [short_term_goals, \n",
        "                        long_term_goals]\n",
        "                       )\n",
        "  new_meeting_button.click(record_new_meeting,[],[audio_record, \n",
        "                                                  transcription\n",
        "                                                  ])\n",
        "  rec_products.click(recommend_hsbc_product, \n",
        "                     [short_term_goals,long_term_goals],\n",
        "                     [short_term_rec,long_term_rec]\n",
        "                     )\n",
        "  submit_button.click(submit_all_records,\n",
        "                      [rm_df, rec_df, customer_id,customer_name,meeting_date,meeting_time,\n",
        "                       transcription, short_term_rec,long_term_rec,\n",
        "                       rm_rec_sort,rm_rec_long],\n",
        "                      [rm_df, df_out, rec_df, df_rec_out])\n",
        "  \n",
        "      "
      ],
      "metadata": {
        "id": "8JNieEBOpxY_"
      },
      "execution_count": null,
      "outputs": []
    },
    {
      "cell_type": "markdown",
      "source": [
        "## launching the app"
      ],
      "metadata": {
        "id": "IuXAV2Lf2HjW"
      }
    },
    {
      "cell_type": "code",
      "source": [
        "demo.launch(debug=True)"
      ],
      "metadata": {
        "id": "457douCq2GlF"
      },
      "execution_count": null,
      "outputs": []
    }
  ]
}